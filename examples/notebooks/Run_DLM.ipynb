{
 "cells": [
  {
   "cell_type": "markdown",
   "id": "f38a3502",
   "metadata": {},
   "source": [
    "# GETTING STARTED\n",
    "\n",
    "Here we show hot to initialize the system, possibly with external USB devices too."
   ]
  },
  {
   "cell_type": "markdown",
   "id": "74924f1c",
   "metadata": {},
   "source": [
    "### Import the BlackCat and USBTDC objects\n",
    "Also define the config file path."
   ]
  },
  {
   "cell_type": "code",
   "execution_count": 1,
   "id": "f7fd6fe6",
   "metadata": {},
   "outputs": [],
   "source": [
    "from blackcat.core import BlackCat, USBDevice\n",
    "\n",
    "save_path = \"/home/trbnet/pone-crate/chiara/test_software\""
   ]
  },
  {
   "cell_type": "markdown",
   "id": "538d0673",
   "metadata": {},
   "source": [
    "### Initialize all objects we're interested in using"
   ]
  },
  {
   "cell_type": "code",
   "execution_count": 2,
   "id": "a6cc81b5",
   "metadata": {},
   "outputs": [
    {
     "name": "stderr",
     "output_type": "stream",
     "text": [
      "2025-04-14 14:42:09,030 - DEBUG - BlackCat - INIT: Located scripts directory: MultiplexedPath('/home/trbnet/pone-crate/chiara/dev/BlackCat/blackcat/scripts')\n",
      "2025-04-14 14:42:09,031 - DEBUG - BlackCat - INIT: Using default configuration file.\n",
      "2025-04-14 14:42:09,032 - DEBUG - BlackCat - INIT: Loaded configuration from: /home/trbnet/pone-crate/chiara/dev/BlackCat/blackcat/config.cfg\n",
      "2025-04-14 14:42:09,033 - WARNING - BlackCat - INIT: Save directory already exists: /home/trbnet/pone-crate/chiara/test_software. You might be overwriting files!\n",
      "2025-04-14 14:42:09,034 - DEBUG - USBDevice - INIT: Located scripts directory: MultiplexedPath('/home/trbnet/pone-crate/chiara/dev/BlackCat/blackcat/scripts')\n",
      "2025-04-14 14:42:09,035 - DEBUG - USBDevice - INIT: Using default configuration file.\n",
      "2025-04-14 14:42:09,036 - DEBUG - USBDevice - INIT: Loaded configuration from: /home/trbnet/pone-crate/chiara/dev/BlackCat/blackcat/config.cfg\n",
      "2025-04-14 14:42:09,037 - WARNING - USBDevice - INIT: Save directory already exists: /home/trbnet/pone-crate/chiara/test_software. You might be overwriting files!\n",
      "2025-04-14 14:42:09,037 - INFO - USBDevice - /dev/ttyUSB0: Initialized.\n",
      "2025-04-14 14:42:09,038 - DEBUG - USBDevice - INIT: Located scripts directory: MultiplexedPath('/home/trbnet/pone-crate/chiara/dev/BlackCat/blackcat/scripts')\n",
      "2025-04-14 14:42:09,039 - DEBUG - USBDevice - INIT: Using default configuration file.\n",
      "2025-04-14 14:42:09,041 - DEBUG - USBDevice - INIT: Loaded configuration from: /home/trbnet/pone-crate/chiara/dev/BlackCat/blackcat/config.cfg\n",
      "2025-04-14 14:42:09,042 - WARNING - USBDevice - INIT: Save directory already exists: /home/trbnet/pone-crate/chiara/test_software. You might be overwriting files!\n",
      "2025-04-14 14:42:09,042 - INFO - USBDevice - /dev/ttyUSB1: Initialized.\n"
     ]
    }
   ],
   "source": [
    "blackcat = BlackCat(save_path=save_path, logging_level=\"DEBUG\")\n",
    "usb0 = USBDevice(device='/dev/ttyUSB0', save_path=save_path, logging_level=\"DEBUG\")\n",
    "usb1 = USBDevice(device='/dev/ttyUSB1', save_path=save_path, logging_level=\"DEBUG\")\n"
   ]
  },
  {
   "cell_type": "markdown",
   "id": "84a8b4e6",
   "metadata": {},
   "source": [
    "### Setup everything. For the BlackCat system one can also run the calibration.\n",
    "Note that setup and calibration can also be run separately as:\n",
    "`blackcat.setup()` and `blackcat.calibrate()`"
   ]
  },
  {
   "cell_type": "code",
   "execution_count": 3,
   "id": "a239b880",
   "metadata": {},
   "outputs": [
    {
     "name": "stderr",
     "output_type": "stream",
     "text": [
      "2025-04-14 14:42:10,759 - INFO - BlackCat - SETUP: Starting the setup process...\n",
      "2025-04-14 14:42:10,761 - DEBUG - BlackCat - SETUP: Running script: /home/trbnet/pone-crate/chiara/dev/BlackCat/blackcat/scripts/setup.sh --config_file /home/trbnet/pone-crate/chiara/dev/BlackCat/blackcat/config.cfg\n",
      "2025-04-14 14:42:13,006 - INFO - BlackCat - SETUP: DONE.\n",
      "2025-04-14 14:42:13,006 - INFO - BlackCat - CALIBRATION: Starting the calibration process...\n",
      "2025-04-14 14:42:13,007 - DEBUG - BlackCat - CALIBRATION: Running script: /home/trbnet/pone-crate/chiara/dev/BlackCat/blackcat/scripts/cal.sh --config_file /home/trbnet/pone-crate/chiara/dev/BlackCat/blackcat/config.cfg --save_path /home/trbnet/pone-crate/chiara/test_software\n",
      "2025-04-14 14:42:15,865 - INFO - BlackCat - CALIBRATION: DONE.\n",
      "2025-04-14 14:42:15,865 - INFO - BlackCat - SETUP: Starting the setup process...\n",
      "2025-04-14 14:42:15,866 - DEBUG - BlackCat - SETUP: Running script: /home/trbnet/pone-crate/chiara/dev/BlackCat/blackcat/scripts/setup.sh --config_file /home/trbnet/pone-crate/chiara/dev/BlackCat/blackcat/config.cfg\n",
      "2025-04-14 14:42:18,089 - INFO - BlackCat - SETUP: DONE.\n",
      "2025-04-14 14:42:18,089 - INFO - USBDevice - ttyUSB0 SETUP: Starting the setup process...\n",
      "2025-04-14 14:42:18,090 - DEBUG - USBDevice - ttyUSB0 SETUP: Running script: /home/trbnet/pone-crate/chiara/dev/BlackCat/blackcat/scripts/setup_ext_tdc.sh --ext_device /dev/ttyUSB0\n",
      "2025-04-14 14:42:19,107 - INFO - USBDevice - ttyUSB0 SETUP: DONE.\n",
      "2025-04-14 14:42:19,108 - INFO - USBDevice - ttyUSB1 SETUP: Starting the setup process...\n",
      "2025-04-14 14:42:19,111 - DEBUG - USBDevice - ttyUSB1 SETUP: Running script: /home/trbnet/pone-crate/chiara/dev/BlackCat/blackcat/scripts/setup_ext_tdc.sh --ext_device /dev/ttyUSB1\n",
      "2025-04-14 14:42:20,137 - INFO - USBDevice - ttyUSB1 SETUP: DONE.\n"
     ]
    }
   ],
   "source": [
    "blackcat.setup_and_calibrate()\n",
    "usb0.setup()\n",
    "usb1.setup()"
   ]
  },
  {
   "cell_type": "markdown",
   "id": "cc4eb7e5",
   "metadata": {},
   "source": [
    "### Start UDP listeners for BlackCat and USB reading for the other devices"
   ]
  },
  {
   "cell_type": "code",
   "execution_count": null,
   "id": "54b3978a",
   "metadata": {},
   "outputs": [
    {
     "name": "stderr",
     "output_type": "stream",
     "text": [
      "2025-04-14 14:42:22,993 - DEBUG - BlackCat - UDP LISTENER: Starting UDP listeners...\n",
      "2025-04-14 14:42:22,995 - INFO - BlackCat - UDP LISTENER: Listening on port 22222, writing to /home/trbnet/pone-crate/chiara/test_software/data_150.bin\n",
      "2025-04-14 14:42:23,997 - INFO - BlackCat - UDP LISTENER: Listening on port 22223, writing to /home/trbnet/pone-crate/chiara/test_software/data_152.bin\n",
      "2025-04-14 14:42:25,001 - INFO - BlackCat - UDP LISTENER: Listening on port 22224, writing to /home/trbnet/pone-crate/chiara/test_software/data_154.bin\n",
      "2025-04-14 14:42:26,004 - INFO - USBDevice - ttyUSB0 READ: Starting USB reading to /home/trbnet/pone-crate/chiara/test_software/data_ttyUSB0.bin...\n",
      "2025-04-14 14:42:26,005 - INFO - USBDevice - ttyUSB0 USB_READER: Starting USB reader for device /dev/ttyUSB0, writing to /home/trbnet/pone-crate/chiara/test_software/data_ttyUSB0.bin\n",
      "2025-04-14 14:42:26,010 - INFO - USBDevice - ttyUSB0 USB_READER: USB reader started in the background.\n",
      "2025-04-14 14:42:26,010 - DEBUG - USBDevice - ttyUSB0 USB_READER: Reading from /dev/ttyUSB0 and saving to /home/trbnet/pone-crate/chiara/test_software/data_ttyUSB0.bin...\n",
      "2025-04-14 14:42:26,012 - INFO - USBDevice - ttyUSB1 READ: Starting USB reading to /home/trbnet/pone-crate/chiara/test_software/data_ttyUSB1.bin...\n",
      "2025-04-14 14:42:26,020 - INFO - USBDevice - ttyUSB1 USB_READER: Starting USB reader for device /dev/ttyUSB1, writing to /home/trbnet/pone-crate/chiara/test_software/data_ttyUSB1.bin\n",
      "2025-04-14 14:42:26,025 - INFO - USBDevice - ttyUSB1 USB_READER: USB reader started in the background.\n",
      "2025-04-14 14:42:26,029 - DEBUG - USBDevice - ttyUSB1 USB_READER: Reading from /dev/ttyUSB1 and saving to /home/trbnet/pone-crate/chiara/test_software/data_ttyUSB1.bin...\n"
     ]
    },
    {
     "name": "stderr",
     "output_type": "stream",
     "text": [
      "2025-04-14 14:46:48,974 - INFO - BlackCat - UDP LISTENER: Listener on port 22222 closed.\n",
      "2025-04-14 14:46:49,101 - INFO - BlackCat - UDP LISTENER: Listener on port 22223 closed.\n",
      "2025-04-14 14:46:50,888 - INFO - BlackCat - UDP LISTENER: Listener on port 22224 closed.\n",
      "2025-04-14 14:46:50,892 - INFO - USBDevice - ttyUSB0 USB_READER: USB reading stopped.\n",
      "2025-04-14 14:46:50,896 - INFO - USBDevice - ttyUSB1 USB_READER: USB reading stopped.\n"
     ]
    }
   ],
   "source": [
    "blackcat.start_udp_listeners()\n",
    "usb0.start_usb_reading()\n",
    "usb1.start_usb_reading()"
   ]
  },
  {
   "cell_type": "markdown",
   "id": "4884f4f0",
   "metadata": {},
   "source": [
    "### Start the measurement!"
   ]
  },
  {
   "cell_type": "code",
   "execution_count": 5,
   "id": "7ffc868f",
   "metadata": {},
   "outputs": [
    {
     "name": "stderr",
     "output_type": "stream",
     "text": [
      "2025-04-14 14:43:06,652 - DEBUG - BlackCat - DELAY LINK MEASUREMENT: Running script: /home/trbnet/pone-crate/chiara/dev/BlackCat/blackcat/scripts/run.sh\n",
      "2025-04-14 14:43:06,757 - INFO - BlackCat - DELAY LINK MEASUREMENT: Running...\n"
     ]
    }
   ],
   "source": [
    "blackcat.run_link_delay_measurement()"
   ]
  },
  {
   "cell_type": "markdown",
   "id": "cfdaa784",
   "metadata": {},
   "source": [
    "### Stop the measurement!\n",
    "For BlackCat this also closes the listening ports. The reading of the USB devices have to be stopped manually"
   ]
  },
  {
   "cell_type": "code",
   "execution_count": 6,
   "id": "bb57ac27",
   "metadata": {},
   "outputs": [
    {
     "name": "stderr",
     "output_type": "stream",
     "text": [
      "2025-04-14 14:46:47,265 - DEBUG - BlackCat - STOP MEASUREMENT: Stopping all UDP listeners...\n",
      "2025-04-14 14:46:47,267 - DEBUG - BlackCat - STOP MEASUREMENT: Running script: /home/trbnet/pone-crate/chiara/dev/BlackCat/blackcat/scripts/stop.sh\n",
      "2025-04-14 14:46:47,369 - INFO - BlackCat - UDP LISTENER: Stopping listener on port 22222...\n",
      "2025-04-14 14:46:47,370 - DEBUG - BlackCat - UDP LISTENER: Waiting for listener thread to terminate...\n",
      "2025-04-14 14:46:48,975 - INFO - BlackCat - UDP LISTENER: Stopping listener on port 22223...\n",
      "2025-04-14 14:46:48,976 - DEBUG - BlackCat - UDP LISTENER: Waiting for listener thread to terminate...\n",
      "2025-04-14 14:46:49,102 - INFO - BlackCat - UDP LISTENER: Stopping listener on port 22224...\n",
      "2025-04-14 14:46:49,103 - DEBUG - BlackCat - UDP LISTENER: Waiting for listener thread to terminate...\n",
      "2025-04-14 14:46:50,889 - INFO - USBDevice - ttyUSB0 READ: Stopping USB reading...\n",
      "2025-04-14 14:46:50,890 - INFO - USBDevice - ttyUSB0 USB_READER: Stopping USB reader for device /dev/ttyUSB0...\n",
      "2025-04-14 14:46:50,892 - DEBUG - USBDevice - ttyUSB0 USB_READER: Waiting for USB reader thread to terminate...\n",
      "2025-04-14 14:46:50,893 - INFO - USBDevice - ttyUSB0 USB_READER: USB reader stopped.\n",
      "2025-04-14 14:46:50,894 - INFO - USBDevice - ttyUSB1 READ: Stopping USB reading...\n",
      "2025-04-14 14:46:50,895 - INFO - USBDevice - ttyUSB1 USB_READER: Stopping USB reader for device /dev/ttyUSB1...\n",
      "2025-04-14 14:46:50,896 - DEBUG - USBDevice - ttyUSB1 USB_READER: Waiting for USB reader thread to terminate...\n",
      "2025-04-14 14:46:50,898 - INFO - USBDevice - ttyUSB1 USB_READER: USB reader stopped.\n"
     ]
    }
   ],
   "source": [
    "blackcat.stop_measurement()\n",
    "usb0.stop_usb_reading()\n",
    "usb1.stop_usb_reading()"
   ]
  },
  {
   "cell_type": "code",
   "execution_count": null,
   "id": "7c418e34",
   "metadata": {},
   "outputs": [],
   "source": []
  }
 ],
 "metadata": {
  "kernelspec": {
   "display_name": ".venv",
   "language": "python",
   "name": "python3"
  },
  "language_info": {
   "codemirror_mode": {
    "name": "ipython",
    "version": 3
   },
   "file_extension": ".py",
   "mimetype": "text/x-python",
   "name": "python",
   "nbconvert_exporter": "python",
   "pygments_lexer": "ipython3",
   "version": "3.11.2"
  }
 },
 "nbformat": 4,
 "nbformat_minor": 5
}
