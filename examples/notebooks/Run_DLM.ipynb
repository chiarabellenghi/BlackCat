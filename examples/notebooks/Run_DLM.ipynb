{
 "cells": [
  {
   "cell_type": "markdown",
   "id": "f38a3502",
   "metadata": {},
   "source": [
    "# GETTING STARTED\n",
    "\n",
    "Here we show hot to initialize the system, possibly with external USB devices too."
   ]
  },
  {
   "cell_type": "markdown",
   "id": "74924f1c",
   "metadata": {},
   "source": [
    "### Import the BlackCat and USBTDC objects\n",
    "Also define the config file path."
   ]
  },
  {
   "cell_type": "code",
   "execution_count": 1,
   "id": "f7fd6fe6",
   "metadata": {},
   "outputs": [],
   "source": [
    "from blackcat.core import BlackCat, USBDevice\n",
    "\n",
    "save_path = \"/home/trbnet/pone-crate/chiara/test_software\""
   ]
  },
  {
   "cell_type": "markdown",
   "id": "538d0673",
   "metadata": {},
   "source": [
    "### Initialize all objects we're interested in using"
   ]
  },
  {
   "cell_type": "code",
   "execution_count": 2,
   "id": "a6cc81b5",
   "metadata": {},
   "outputs": [
    {
     "name": "stderr",
     "output_type": "stream",
     "text": [
      "2025-05-08 20:00:06,579 - DEBUG - BlackCat - INIT: Located scripts directory: MultiplexedPath('/home/trbnet/pone-crate/chiara/dev/BlackCat/blackcat/scripts')\n",
      "2025-05-08 20:00:06,579 - DEBUG - BlackCat - INIT: Using default configuration file.\n",
      "2025-05-08 20:00:06,581 - DEBUG - BlackCat - INIT: Loaded configuration from: /home/trbnet/pone-crate/chiara/dev/BlackCat/blackcat/config.cfg\n",
      "2025-05-08 20:00:06,581 - WARNING - BlackCat - INIT: Save directory already exists: /home/trbnet/pone-crate/chiara/test_software. You might be overwriting files!\n",
      "2025-05-08 20:00:06,582 - INFO - BlackCat - DOG DISCOVER: Checking if all modules are online...\n",
      "2025-05-08 20:00:06,700 - DEBUG - BlackCat - DOG DISCOVER: output:\n",
      "     IP-ADDR          MAC                DOG ADDR    UID                 COMPILE-TIME         HW     GW      TEMP  LINK\n",
      "-----------------------------------------------------------------------------------------------------------------------\n",
      "  0: 10.1.1.140       da:7a:0f:88:46:4b  0x00000000  0x011761a80f88464b  2025-02-24 17:15:05  0x0bc2 0x0110  20.6  \n",
      "  1: 10.1.1.141       da:7a:0f:6a:46:4a  0x0000008d  0x011761a80f6a464a  2025-02-24 17:15:05  0x0bc2 0x0110  23.1  \n",
      "  2: 10.1.1.142       da:7a:0f:ad:46:49  0x0000008e  0x011761a80fad4649  2025-02-24 17:15:05  0x0bc2 0x0110  22.8  \n",
      "  3: 10.1.1.150       da:7a:05:b7:bd:b5  0x00000096  0x73000005b7bdb528  2025-02-24 19:12:12  0x0301 0x0104  26.6  \n",
      "  4: 10.1.1.152       da:7a:0a:62:8e:a8  0x00000098  0x7700000a628ea828  2025-02-24 20:36:21  0x0301 0x0105  27.8  \n",
      "  5: 10.1.1.154       da:7a:09:41:03:07  0x0000009a  0x3400000941030728  2025-02-24 20:36:21  0x0301 0x0105  27.7  \n",
      "\n",
      "2025-05-08 20:00:06,701 - INFO - BlackCat - DOG DISCOVER: All 6 modules online.\n",
      "2025-05-08 20:00:06,702 - DEBUG - USBDevice - INIT: Located scripts directory: MultiplexedPath('/home/trbnet/pone-crate/chiara/dev/BlackCat/blackcat/scripts')\n",
      "2025-05-08 20:00:06,702 - DEBUG - USBDevice - INIT: Using default configuration file.\n",
      "2025-05-08 20:00:06,704 - DEBUG - USBDevice - INIT: Loaded configuration from: /home/trbnet/pone-crate/chiara/dev/BlackCat/blackcat/config.cfg\n",
      "2025-05-08 20:00:06,704 - WARNING - USBDevice - INIT: Save directory already exists: /home/trbnet/pone-crate/chiara/test_software. You might be overwriting files!\n",
      "2025-05-08 20:00:06,705 - INFO - USBDevice - /dev/ttyUSB0: Initialized.\n",
      "2025-05-08 20:00:06,705 - DEBUG - USBDevice - INIT: Located scripts directory: MultiplexedPath('/home/trbnet/pone-crate/chiara/dev/BlackCat/blackcat/scripts')\n",
      "2025-05-08 20:00:06,706 - DEBUG - USBDevice - INIT: Using default configuration file.\n",
      "2025-05-08 20:00:06,707 - DEBUG - USBDevice - INIT: Loaded configuration from: /home/trbnet/pone-crate/chiara/dev/BlackCat/blackcat/config.cfg\n",
      "2025-05-08 20:00:06,708 - WARNING - USBDevice - INIT: Save directory already exists: /home/trbnet/pone-crate/chiara/test_software. You might be overwriting files!\n",
      "2025-05-08 20:00:06,708 - INFO - USBDevice - /dev/ttyUSB1: Initialized.\n"
     ]
    },
    {
     "name": "stdout",
     "output_type": "stream",
     "text": [
      "DOGMA_BROADCAST_ADDRESS is already set to: 10.1.1.255\n"
     ]
    }
   ],
   "source": [
    "blackcat = BlackCat(save_path=save_path, logging_level=\"DEBUG\")\n",
    "usb0 = USBDevice(device='/dev/ttyUSB0', save_path=save_path, logging_level=\"DEBUG\")\n",
    "usb1 = USBDevice(device='/dev/ttyUSB1', save_path=save_path, logging_level=\"DEBUG\")"
   ]
  },
  {
   "cell_type": "markdown",
   "id": "84a8b4e6",
   "metadata": {},
   "source": [
    "### Setup everything. For the BlackCat system one can also run the calibration.\n",
    "Note that setup and calibration can also be run separately as:\n",
    "`blackcat.setup()` and `blackcat.calibrate()`"
   ]
  },
  {
   "cell_type": "code",
   "execution_count": 4,
   "id": "a239b880",
   "metadata": {},
   "outputs": [
    {
     "name": "stderr",
     "output_type": "stream",
     "text": [
      "2025-05-08 19:54:56,939 - INFO - BlackCat - SETUP: Starting the setup process...\n",
      "2025-05-08 19:54:56,940 - DEBUG - BlackCat - SETUP: Running script: /home/trbnet/pone-crate/chiara/dev/BlackCat/blackcat/scripts/setup.sh --config_file /home/trbnet/pone-crate/chiara/dev/BlackCat/blackcat/config.cfg\n",
      "2025-05-08 19:54:58,085 - INFO - BlackCat - SETUP: DONE.\n",
      "2025-05-08 19:54:58,085 - INFO - BlackCat - CALIBRATION: Starting the calibration process...\n",
      "2025-05-08 19:54:58,086 - DEBUG - BlackCat - CALIBRATION: Running script: /home/trbnet/pone-crate/chiara/dev/BlackCat/blackcat/scripts/cal.sh --config_file /home/trbnet/pone-crate/chiara/dev/BlackCat/blackcat/config.cfg --save_path /home/trbnet/pone-crate/chiara/test_software\n",
      "2025-05-08 19:55:00,961 - INFO - BlackCat - CALIBRATION: DONE.\n",
      "2025-05-08 19:55:00,961 - INFO - BlackCat - SETUP: Starting the setup process...\n",
      "2025-05-08 19:55:00,962 - DEBUG - BlackCat - SETUP: Running script: /home/trbnet/pone-crate/chiara/dev/BlackCat/blackcat/scripts/setup.sh --config_file /home/trbnet/pone-crate/chiara/dev/BlackCat/blackcat/config.cfg\n",
      "2025-05-08 19:55:02,067 - INFO - BlackCat - SETUP: DONE.\n",
      "2025-05-08 19:55:02,068 - INFO - USBDevice - ttyUSB0 SETUP: Starting the setup process...\n",
      "2025-05-08 19:55:02,069 - DEBUG - USBDevice - ttyUSB0 SETUP: Running script: /home/trbnet/pone-crate/chiara/dev/BlackCat/blackcat/scripts/setup_ext_tdc.sh --ext_device /dev/ttyUSB0\n",
      "2025-05-08 19:55:03,099 - INFO - USBDevice - ttyUSB0 SETUP: DONE.\n",
      "2025-05-08 19:55:03,101 - INFO - USBDevice - ttyUSB1 SETUP: Starting the setup process...\n",
      "2025-05-08 19:55:03,103 - DEBUG - USBDevice - ttyUSB1 SETUP: Running script: /home/trbnet/pone-crate/chiara/dev/BlackCat/blackcat/scripts/setup_ext_tdc.sh --ext_device /dev/ttyUSB1\n",
      "2025-05-08 19:55:04,139 - INFO - USBDevice - ttyUSB1 SETUP: DONE.\n"
     ]
    }
   ],
   "source": [
    "blackcat.setup_and_calibrate()\n",
    "usb0.setup()\n",
    "usb1.setup()"
   ]
  },
  {
   "cell_type": "markdown",
   "id": "cc4eb7e5",
   "metadata": {},
   "source": [
    "### Start UDP listeners for BlackCat and USB reading for the other devices"
   ]
  },
  {
   "cell_type": "code",
   "execution_count": 5,
   "id": "54b3978a",
   "metadata": {},
   "outputs": [
    {
     "name": "stderr",
     "output_type": "stream",
     "text": [
      "2025-05-08 19:55:10,514 - DEBUG - BlackCat - UDP LISTENER: Starting UDP listeners...\n",
      "2025-05-08 19:55:10,515 - INFO - BlackCat - UDP LISTENER: Listening on port 22222, writing to /home/trbnet/pone-crate/chiara/test_software/data_150.bin\n",
      "2025-05-08 19:55:11,517 - INFO - BlackCat - UDP LISTENER: Listening on port 22223, writing to /home/trbnet/pone-crate/chiara/test_software/data_152.bin\n",
      "2025-05-08 19:55:12,520 - INFO - BlackCat - UDP LISTENER: Listening on port 22224, writing to /home/trbnet/pone-crate/chiara/test_software/data_154.bin\n",
      "2025-05-08 19:55:13,523 - INFO - USBDevice - ttyUSB0 USB_READER: Starting USB reading to /home/trbnet/pone-crate/chiara/test_software/data_ttyUSB0.bin...\n",
      "2025-05-08 19:55:13,525 - INFO - USBDevice - ttyUSB0 USB_READER: Starting USB reader for device /dev/ttyUSB0, writing to /home/trbnet/pone-crate/chiara/test_software/data_ttyUSB0.bin\n",
      "2025-05-08 19:55:13,529 - INFO - USBDevice - ttyUSB0 USB_READER: USB reader started in the background.\n",
      "2025-05-08 19:55:13,529 - DEBUG - USBDevice - ttyUSB0 USB_READER: Reading from /dev/ttyUSB0 and saving to /home/trbnet/pone-crate/chiara/test_software/data_ttyUSB0.bin...\n",
      "2025-05-08 19:55:13,530 - INFO - USBDevice - ttyUSB1 USB_READER: Starting USB reading to /home/trbnet/pone-crate/chiara/test_software/data_ttyUSB1.bin...\n",
      "2025-05-08 19:55:13,531 - INFO - USBDevice - ttyUSB1 USB_READER: Starting USB reader for device /dev/ttyUSB1, writing to /home/trbnet/pone-crate/chiara/test_software/data_ttyUSB1.bin\n",
      "2025-05-08 19:55:13,533 - INFO - USBDevice - ttyUSB1 USB_READER: USB reader started in the background.\n",
      "2025-05-08 19:55:13,533 - DEBUG - USBDevice - ttyUSB1 USB_READER: Reading from /dev/ttyUSB1 and saving to /home/trbnet/pone-crate/chiara/test_software/data_ttyUSB1.bin...\n"
     ]
    },
    {
     "name": "stderr",
     "output_type": "stream",
     "text": [
      "2025-05-08 19:55:25,519 - INFO - BlackCat - UDP LISTENER: Listener on port 22222 closed.\n",
      "2025-05-08 19:55:27,491 - INFO - BlackCat - UDP LISTENER: Listener on port 22223 closed.\n",
      "2025-05-08 19:55:29,413 - INFO - BlackCat - UDP LISTENER: Listener on port 22224 closed.\n",
      "2025-05-08 19:55:29,416 - INFO - USBDevice - ttyUSB0 USB_READER: USB reading stopped.\n",
      "2025-05-08 19:55:29,420 - INFO - USBDevice - ttyUSB1 USB_READER: USB reading stopped.\n"
     ]
    }
   ],
   "source": [
    "blackcat.start_udp_listeners()\n",
    "usb0.start_usb_reading()\n",
    "usb1.start_usb_reading()"
   ]
  },
  {
   "cell_type": "markdown",
   "id": "4884f4f0",
   "metadata": {},
   "source": [
    "### Start the measurement!"
   ]
  },
  {
   "cell_type": "code",
   "execution_count": 6,
   "id": "7ffc868f",
   "metadata": {},
   "outputs": [
    {
     "name": "stderr",
     "output_type": "stream",
     "text": [
      "2025-05-08 19:55:16,643 - DEBUG - BlackCat - DELAY LINK MEASUREMENT: Running script: /home/trbnet/pone-crate/chiara/dev/BlackCat/blackcat/scripts/run.sh\n",
      "2025-05-08 19:55:16,766 - INFO - BlackCat - DELAY LINK MEASUREMENT: Running...\n"
     ]
    }
   ],
   "source": [
    "blackcat.run_link_delay_measurement()"
   ]
  },
  {
   "cell_type": "markdown",
   "id": "cfdaa784",
   "metadata": {},
   "source": [
    "### Stop the measurement!\n",
    "For BlackCat this also closes the listening ports. The reading of the USB devices have to be stopped manually"
   ]
  },
  {
   "cell_type": "code",
   "execution_count": 7,
   "id": "bb57ac27",
   "metadata": {},
   "outputs": [
    {
     "name": "stderr",
     "output_type": "stream",
     "text": [
      "2025-05-08 19:55:23,937 - DEBUG - BlackCat - STOP MEASUREMENT: Stopping all UDP listeners...\n",
      "2025-05-08 19:55:23,939 - DEBUG - BlackCat - STOP MEASUREMENT: Running script: /home/trbnet/pone-crate/chiara/dev/BlackCat/blackcat/scripts/stop.sh\n",
      "2025-05-08 19:55:24,053 - INFO - BlackCat - UDP LISTENER: Stopping listener on port 22222...\n",
      "2025-05-08 19:55:24,054 - DEBUG - BlackCat - UDP LISTENER: Waiting for listener thread to terminate...\n",
      "2025-05-08 19:55:25,521 - INFO - BlackCat - UDP LISTENER: Stopping listener on port 22223...\n",
      "2025-05-08 19:55:25,521 - DEBUG - BlackCat - UDP LISTENER: Waiting for listener thread to terminate...\n",
      "2025-05-08 19:55:27,492 - INFO - BlackCat - UDP LISTENER: Stopping listener on port 22224...\n",
      "2025-05-08 19:55:27,493 - DEBUG - BlackCat - UDP LISTENER: Waiting for listener thread to terminate...\n",
      "2025-05-08 19:55:29,414 - INFO - USBDevice - ttyUSB0 USB_READER: Stopping USB reading...\n",
      "2025-05-08 19:55:29,415 - INFO - USBDevice - ttyUSB0 USB_READER: Stopping USB reader for device /dev/ttyUSB0...\n",
      "2025-05-08 19:55:29,416 - DEBUG - USBDevice - ttyUSB0 USB_READER: Waiting for USB reader thread to terminate...\n",
      "2025-05-08 19:55:29,418 - INFO - USBDevice - ttyUSB0 USB_READER: USB reader stopped.\n",
      "2025-05-08 19:55:29,419 - INFO - USBDevice - ttyUSB1 USB_READER: Stopping USB reading...\n",
      "2025-05-08 19:55:29,420 - INFO - USBDevice - ttyUSB1 USB_READER: Stopping USB reader for device /dev/ttyUSB1...\n",
      "2025-05-08 19:55:29,420 - DEBUG - USBDevice - ttyUSB1 USB_READER: Waiting for USB reader thread to terminate...\n",
      "2025-05-08 19:55:29,422 - INFO - USBDevice - ttyUSB1 USB_READER: USB reader stopped.\n"
     ]
    }
   ],
   "source": [
    "blackcat.stop_measurement()\n",
    "usb0.stop_usb_reading()\n",
    "usb1.stop_usb_reading()"
   ]
  },
  {
   "cell_type": "code",
   "execution_count": null,
   "id": "7c418e34",
   "metadata": {},
   "outputs": [],
   "source": []
  }
 ],
 "metadata": {
  "kernelspec": {
   "display_name": ".venv",
   "language": "python",
   "name": "python3"
  },
  "language_info": {
   "codemirror_mode": {
    "name": "ipython",
    "version": 3
   },
   "file_extension": ".py",
   "mimetype": "text/x-python",
   "name": "python",
   "nbconvert_exporter": "python",
   "pygments_lexer": "ipython3",
   "version": "3.11.2"
  }
 },
 "nbformat": 4,
 "nbformat_minor": 5
}
