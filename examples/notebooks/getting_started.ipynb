{
 "cells": [
  {
   "cell_type": "markdown",
   "id": "f38a3502",
   "metadata": {},
   "source": [
    "# GETTING STARTED\n",
    "\n",
    "Here we show hot to initialize the system, possibly with external USB devices too."
   ]
  },
  {
   "cell_type": "code",
   "execution_count": 13,
   "id": "73aa55f1",
   "metadata": {},
   "outputs": [],
   "source": [
    "# This will have to be deleted when the package is finally installable\n",
    "import sys\n",
    "sys.path.insert(0, \"/home/trbnet/pone-crate/chiara/blackcat_dev/BlackCat\")"
   ]
  },
  {
   "cell_type": "markdown",
   "id": "74924f1c",
   "metadata": {},
   "source": [
    "### Import the BlackCat and USBTDC objects\n",
    "Also define the config file path."
   ]
  },
  {
   "cell_type": "code",
   "execution_count": 2,
   "id": "f7fd6fe6",
   "metadata": {},
   "outputs": [],
   "source": [
    "from blackcat.core import BlackCat, USBTDC\n",
    "\n",
    "config_file = \"/home/trbnet/pone-crate/chiara/blackcat_dev/BlackCat/config.cfg\""
   ]
  },
  {
   "cell_type": "markdown",
   "id": "538d0673",
   "metadata": {},
   "source": [
    "### Initialize all objects we're interested in using"
   ]
  },
  {
   "cell_type": "code",
   "execution_count": 3,
   "id": "a6cc81b5",
   "metadata": {},
   "outputs": [
    {
     "name": "stderr",
     "output_type": "stream",
     "text": [
      "2025-04-10 18:54:17,177 - DEBUG - BlackCat - INIT: Located scripts directory: MultiplexedPath('/home/trbnet/pone-crate/chiara/blackcat_dev/BlackCat/blackcat/scripts')\n",
      "2025-04-10 18:54:17,179 - DEBUG - BlackCat - INIT: Save directory already exists: /home/trbnet/pone-crate/chiara/test_software\n",
      "2025-04-10 18:54:17,180 - DEBUG - BlackCat - INIT: Loaded configuration from: /home/trbnet/pone-crate/chiara/blackcat_dev/BlackCat/config.cfg\n",
      "2025-04-10 18:54:17,181 - DEBUG - USBTDC - INIT: Located scripts directory: MultiplexedPath('/home/trbnet/pone-crate/chiara/blackcat_dev/BlackCat/blackcat/scripts')\n",
      "2025-04-10 18:54:17,183 - DEBUG - USBTDC - INIT: Save directory already exists: /home/trbnet/pone-crate/chiara/test_software\n",
      "2025-04-10 18:54:17,184 - DEBUG - USBTDC - INIT: Loaded configuration from: /home/trbnet/pone-crate/chiara/blackcat_dev/BlackCat/config.cfg\n",
      "2025-04-10 18:54:17,184 - INFO - USBTDC - /dev/ttyUSB0: Initialized.\n",
      "2025-04-10 18:54:17,185 - DEBUG - USBTDC - INIT: Located scripts directory: MultiplexedPath('/home/trbnet/pone-crate/chiara/blackcat_dev/BlackCat/blackcat/scripts')\n",
      "2025-04-10 18:54:17,187 - DEBUG - USBTDC - INIT: Save directory already exists: /home/trbnet/pone-crate/chiara/test_software\n",
      "2025-04-10 18:54:17,188 - DEBUG - USBTDC - INIT: Loaded configuration from: /home/trbnet/pone-crate/chiara/blackcat_dev/BlackCat/config.cfg\n",
      "2025-04-10 18:54:17,188 - INFO - USBTDC - /dev/ttyUSB1: Initialized.\n"
     ]
    }
   ],
   "source": [
    "blackcat = BlackCat(config_file=config_file, logging_level=\"DEBUG\")\n",
    "usb0 = USBTDC(config_file=config_file, device='/dev/ttyUSB0', logging_level=\"DEBUG\")\n",
    "usb1 = USBTDC(config_file=config_file, device='/dev/ttyUSB1', logging_level=\"DEBUG\")\n"
   ]
  },
  {
   "cell_type": "markdown",
   "id": "84a8b4e6",
   "metadata": {},
   "source": [
    "### Setup everything. For the BlackCat system one can also run the calibration.\n",
    "Note that setup and calibration can also be run separately as:\n",
    "`blackcat.setup()` and `blackcat.calibrate()`"
   ]
  },
  {
   "cell_type": "code",
   "execution_count": 4,
   "id": "a239b880",
   "metadata": {},
   "outputs": [
    {
     "name": "stderr",
     "output_type": "stream",
     "text": [
      "2025-04-10 18:54:23,624 - INFO - BlackCat - SETUP: Starting the setup process...\n",
      "2025-04-10 18:54:23,629 - DEBUG - BlackCat - SETUP: Running script: /home/trbnet/pone-crate/chiara/blackcat_dev/BlackCat/blackcat/scripts/setup.sh --config_file /home/trbnet/pone-crate/chiara/blackcat_dev/BlackCat/config.cfg\n",
      "2025-04-10 18:54:26,049 - INFO - BlackCat - SETUP: DONE.\n",
      "2025-04-10 18:54:26,049 - INFO - BlackCat - CALIBRATION: Starting the calibration process...\n",
      "2025-04-10 18:54:26,050 - DEBUG - BlackCat - CALIBRATION: Running script: /home/trbnet/pone-crate/chiara/blackcat_dev/BlackCat/blackcat/scripts/cal.sh --config_file /home/trbnet/pone-crate/chiara/blackcat_dev/BlackCat/config.cfg --save_path /home/trbnet/pone-crate/chiara/test_software\n",
      "2025-04-10 18:54:28,935 - DEBUG - BlackCat - CALIBRATION: Processing raw calibration files...\n",
      "2025-04-10 18:54:28,936 - DEBUG - BlackCat - CALIBRATION: Created calibration directory: /home/trbnet/pone-crate/chiara/test_software/calibration\n",
      "2025-04-10 18:54:28,942 - INFO - BlackCat - CALIBRATION: DONE.\n",
      "2025-04-10 18:54:28,942 - INFO - BlackCat - SETUP: Starting the setup process...\n",
      "2025-04-10 18:54:28,943 - DEBUG - BlackCat - SETUP: Running script: /home/trbnet/pone-crate/chiara/blackcat_dev/BlackCat/blackcat/scripts/setup.sh --config_file /home/trbnet/pone-crate/chiara/blackcat_dev/BlackCat/config.cfg\n",
      "2025-04-10 18:54:31,253 - INFO - BlackCat - SETUP: DONE.\n",
      "2025-04-10 18:54:31,253 - INFO - USBTDC - ttyUSB0 SETUP: Starting the setup process...\n",
      "2025-04-10 18:54:31,254 - DEBUG - USBTDC - ttyUSB0 SETUP: Running script: /home/trbnet/pone-crate/chiara/blackcat_dev/BlackCat/blackcat/scripts/setup_ext_tdc.sh --ext_device /dev/ttyUSB0\n",
      "2025-04-10 18:54:32,271 - INFO - USBTDC - ttyUSB0 SETUP: DONE.\n",
      "2025-04-10 18:54:32,273 - INFO - USBTDC - ttyUSB1 SETUP: Starting the setup process...\n",
      "2025-04-10 18:54:32,275 - DEBUG - USBTDC - ttyUSB1 SETUP: Running script: /home/trbnet/pone-crate/chiara/blackcat_dev/BlackCat/blackcat/scripts/setup_ext_tdc.sh --ext_device /dev/ttyUSB1\n",
      "2025-04-10 18:54:33,305 - INFO - USBTDC - ttyUSB1 SETUP: DONE.\n"
     ]
    }
   ],
   "source": [
    "blackcat.setup_and_calibrate()\n",
    "usb0.setup()\n",
    "usb1.setup()"
   ]
  },
  {
   "cell_type": "markdown",
   "id": "cc4eb7e5",
   "metadata": {},
   "source": [
    "### Start UDP listeners for BlackCat and USB reading for the other devices"
   ]
  },
  {
   "cell_type": "code",
   "execution_count": null,
   "id": "54b3978a",
   "metadata": {},
   "outputs": [
    {
     "name": "stderr",
     "output_type": "stream",
     "text": [
      "2025-04-10 18:55:15,362 - DEBUG - BlackCat - UDP LISTENER: Starting UDP listeners...\n",
      "2025-04-10 18:55:15,366 - INFO - BlackCat - UDP LISTENER: Listening on port 22222, writing to /home/trbnet/pone-crate/chiara/test_software/data_150.bin\n",
      "2025-04-10 18:55:16,370 - INFO - BlackCat - UDP LISTENER: Listening on port 22223, writing to /home/trbnet/pone-crate/chiara/test_software/data_152.bin\n",
      "2025-04-10 18:55:17,374 - INFO - BlackCat - UDP LISTENER: Listening on port 22224, writing to /home/trbnet/pone-crate/chiara/test_software/data_154.bin\n",
      "2025-04-10 18:55:18,376 - INFO - USBTDC - ttyUSB0 READ: Starting USB reading to /home/trbnet/pone-crate/chiara/test_software/data_ttyUSB0.bin...\n",
      "2025-04-10 18:55:18,377 - INFO - USBTDC - ttyUSB0 USB_READER: Starting USB reader for device /dev/ttyUSB0, writing to /home/trbnet/pone-crate/chiara/test_software/data_ttyUSB0.bin\n",
      "2025-04-10 18:55:18,378 - INFO - USBTDC - ttyUSB0 USB_READER: USB reader started in the background.\n",
      "2025-04-10 18:55:18,379 - INFO - USBTDC - ttyUSB1 READ: Starting USB reading to /home/trbnet/pone-crate/chiara/test_software/data_ttyUSB1.bin...\n",
      "2025-04-10 18:55:18,380 - DEBUG - USBTDC - ttyUSB0 USB_READER: Reading from /dev/ttyUSB0 and saving to /home/trbnet/pone-crate/chiara/test_software/data_ttyUSB0.bin...\n",
      "2025-04-10 18:55:18,380 - INFO - USBTDC - ttyUSB1 USB_READER: Starting USB reader for device /dev/ttyUSB1, writing to /home/trbnet/pone-crate/chiara/test_software/data_ttyUSB1.bin\n",
      "2025-04-10 18:55:18,384 - INFO - USBTDC - ttyUSB1 USB_READER: USB reader started in the background.\n",
      "2025-04-10 18:55:18,385 - DEBUG - USBTDC - ttyUSB1 USB_READER: Reading from /dev/ttyUSB1 and saving to /home/trbnet/pone-crate/chiara/test_software/data_ttyUSB1.bin...\n"
     ]
    },
    {
     "name": "stderr",
     "output_type": "stream",
     "text": [
      "2025-04-10 18:56:19,278 - INFO - BlackCat - UDP LISTENER: Listener on port 22222 closed.\n",
      "2025-04-10 18:56:21,218 - INFO - BlackCat - UDP LISTENER: Listener on port 22223 closed.\n",
      "2025-04-10 18:56:23,200 - INFO - BlackCat - UDP LISTENER: Listener on port 22224 closed.\n",
      "2025-04-10 18:56:23,203 - INFO - USBTDC - ttyUSB0 USB_READER: USB reading stopped.\n",
      "2025-04-10 18:56:23,208 - INFO - USBTDC - ttyUSB1 USB_READER: USB reading stopped.\n"
     ]
    }
   ],
   "source": [
    "blackcat.start_udp_listeners()\n",
    "usb0.start_usb_reading()\n",
    "usb1.start_usb_reading()"
   ]
  },
  {
   "cell_type": "markdown",
   "id": "4884f4f0",
   "metadata": {},
   "source": [
    "### Start the measurement!"
   ]
  },
  {
   "cell_type": "code",
   "execution_count": 9,
   "id": "7ffc868f",
   "metadata": {},
   "outputs": [
    {
     "name": "stderr",
     "output_type": "stream",
     "text": [
      "2025-04-10 18:55:45,970 - DEBUG - BlackCat - DELAY LINK MEASUREMENT: Running script: /home/trbnet/pone-crate/chiara/blackcat_dev/BlackCat/blackcat/scripts/run.sh\n",
      "2025-04-10 18:55:46,082 - INFO - BlackCat - DELAY LINK MEASUREMENT: Running...\n"
     ]
    }
   ],
   "source": [
    "blackcat.run_link_delay_measurement()"
   ]
  },
  {
   "cell_type": "markdown",
   "id": "cfdaa784",
   "metadata": {},
   "source": [
    "### Stop the measurement!\n",
    "For BlackCat this also closes the listening ports. The reading of the USB devices have to be stopped manually"
   ]
  },
  {
   "cell_type": "code",
   "execution_count": 12,
   "id": "bb57ac27",
   "metadata": {},
   "outputs": [
    {
     "name": "stderr",
     "output_type": "stream",
     "text": [
      "2025-04-10 18:56:17,175 - DEBUG - BlackCat - STOP MEASUREMENT: Stopping all UDP listeners...\n",
      "2025-04-10 18:56:17,177 - DEBUG - BlackCat - STOP MEASUREMENT: Running script: /home/trbnet/pone-crate/chiara/blackcat_dev/BlackCat/blackcat/scripts/stop.sh\n",
      "2025-04-10 18:56:17,301 - INFO - BlackCat - UDP LISTENER: Stopping listener on port 22222...\n",
      "2025-04-10 18:56:17,302 - DEBUG - BlackCat - UDP LISTENER: Waiting for listener thread to terminate...\n",
      "2025-04-10 18:56:19,279 - INFO - BlackCat - UDP LISTENER: Stopping listener on port 22223...\n",
      "2025-04-10 18:56:19,280 - DEBUG - BlackCat - UDP LISTENER: Waiting for listener thread to terminate...\n",
      "2025-04-10 18:56:21,219 - INFO - BlackCat - UDP LISTENER: Stopping listener on port 22224...\n",
      "2025-04-10 18:56:21,220 - DEBUG - BlackCat - UDP LISTENER: Waiting for listener thread to terminate...\n",
      "2025-04-10 18:56:23,201 - INFO - USBTDC - ttyUSB0 READ: Stopping USB reading...\n",
      "2025-04-10 18:56:23,202 - INFO - USBTDC - ttyUSB0 USB_READER: Stopping USB reader for device /dev/ttyUSB0...\n",
      "2025-04-10 18:56:23,203 - DEBUG - USBTDC - ttyUSB0 USB_READER: Waiting for USB reader thread to terminate...\n",
      "2025-04-10 18:56:23,205 - INFO - USBTDC - ttyUSB0 USB_READER: USB reader stopped.\n",
      "2025-04-10 18:56:23,206 - INFO - USBTDC - ttyUSB1 READ: Stopping USB reading...\n",
      "2025-04-10 18:56:23,207 - INFO - USBTDC - ttyUSB1 USB_READER: Stopping USB reader for device /dev/ttyUSB1...\n",
      "2025-04-10 18:56:23,208 - DEBUG - USBTDC - ttyUSB1 USB_READER: Waiting for USB reader thread to terminate...\n",
      "2025-04-10 18:56:23,209 - INFO - USBTDC - ttyUSB1 USB_READER: USB reader stopped.\n"
     ]
    }
   ],
   "source": [
    "blackcat.stop_measurement()\n",
    "usb0.stop_usb_reading()\n",
    "usb1.stop_usb_reading()"
   ]
  },
  {
   "cell_type": "code",
   "execution_count": null,
   "id": "e95f7633",
   "metadata": {},
   "outputs": [],
   "source": []
  }
 ],
 "metadata": {
  "kernelspec": {
   "display_name": "Python (blackcat_dev)",
   "language": "python",
   "name": "blackcat_dev"
  },
  "language_info": {
   "codemirror_mode": {
    "name": "ipython",
    "version": 3
   },
   "file_extension": ".py",
   "mimetype": "text/x-python",
   "name": "python",
   "nbconvert_exporter": "python",
   "pygments_lexer": "ipython3",
   "version": "3.11.2"
  }
 },
 "nbformat": 4,
 "nbformat_minor": 5
}
