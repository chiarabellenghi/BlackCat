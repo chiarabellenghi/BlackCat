{
 "cells": [
  {
   "cell_type": "markdown",
   "id": "f38a3502",
   "metadata": {},
   "source": [
    "# GETTING STARTED\n",
    "\n",
    "Here we show hot to initialize the system, possibly with external USB devices too."
   ]
  },
  {
   "cell_type": "markdown",
   "id": "74924f1c",
   "metadata": {},
   "source": [
    "### Import the BlackCat and USBTDC objects\n",
    "Also define the config file path."
   ]
  },
  {
   "cell_type": "code",
   "execution_count": 1,
   "id": "f7fd6fe6",
   "metadata": {},
   "outputs": [],
   "source": [
    "from blackcat.core import BlackCat, USBTDC\n",
    "\n",
    "config_file = \"/home/trbnet/pone-crate/chiara/dev/BlackCat/config.cfg\""
   ]
  },
  {
   "cell_type": "markdown",
   "id": "538d0673",
   "metadata": {},
   "source": [
    "### Initialize all objects we're interested in using"
   ]
  },
  {
   "cell_type": "code",
   "execution_count": 2,
   "id": "a6cc81b5",
   "metadata": {},
   "outputs": [
    {
     "name": "stderr",
     "output_type": "stream",
     "text": [
      "2025-04-11 10:08:01,615 - DEBUG - BlackCat - INIT: Located scripts directory: MultiplexedPath('/home/trbnet/pone-crate/chiara/dev/BlackCat/blackcat/scripts')\n",
      "2025-04-11 10:08:01,617 - DEBUG - BlackCat - INIT: Save directory already exists: /home/trbnet/pone-crate/chiara/test_software\n",
      "2025-04-11 10:08:01,618 - DEBUG - BlackCat - INIT: Loaded configuration from: /home/trbnet/pone-crate/chiara/dev/BlackCat/config.cfg\n",
      "2025-04-11 10:08:01,619 - DEBUG - USBTDC - INIT: Located scripts directory: MultiplexedPath('/home/trbnet/pone-crate/chiara/dev/BlackCat/blackcat/scripts')\n",
      "2025-04-11 10:08:01,620 - DEBUG - USBTDC - INIT: Save directory already exists: /home/trbnet/pone-crate/chiara/test_software\n",
      "2025-04-11 10:08:01,621 - DEBUG - USBTDC - INIT: Loaded configuration from: /home/trbnet/pone-crate/chiara/dev/BlackCat/config.cfg\n",
      "2025-04-11 10:08:01,621 - INFO - USBTDC - /dev/ttyUSB0: Initialized.\n",
      "2025-04-11 10:08:01,622 - DEBUG - USBTDC - INIT: Located scripts directory: MultiplexedPath('/home/trbnet/pone-crate/chiara/dev/BlackCat/blackcat/scripts')\n",
      "2025-04-11 10:08:01,624 - DEBUG - USBTDC - INIT: Save directory already exists: /home/trbnet/pone-crate/chiara/test_software\n",
      "2025-04-11 10:08:01,624 - DEBUG - USBTDC - INIT: Loaded configuration from: /home/trbnet/pone-crate/chiara/dev/BlackCat/config.cfg\n",
      "2025-04-11 10:08:01,625 - INFO - USBTDC - /dev/ttyUSB1: Initialized.\n"
     ]
    }
   ],
   "source": [
    "blackcat = BlackCat(config_file=config_file, logging_level=\"DEBUG\")\n",
    "usb0 = USBTDC(config_file=config_file, device='/dev/ttyUSB0', logging_level=\"DEBUG\")\n",
    "usb1 = USBTDC(config_file=config_file, device='/dev/ttyUSB1', logging_level=\"DEBUG\")\n"
   ]
  },
  {
   "cell_type": "markdown",
   "id": "84a8b4e6",
   "metadata": {},
   "source": [
    "### Setup everything. For the BlackCat system one can also run the calibration.\n",
    "Note that setup and calibration can also be run separately as:\n",
    "`blackcat.setup()` and `blackcat.calibrate()`"
   ]
  },
  {
   "cell_type": "code",
   "execution_count": 3,
   "id": "a239b880",
   "metadata": {},
   "outputs": [
    {
     "name": "stderr",
     "output_type": "stream",
     "text": [
      "2025-04-11 10:08:12,306 - INFO - BlackCat - SETUP: Starting the setup process...\n",
      "2025-04-11 10:08:12,307 - DEBUG - BlackCat - SETUP: Running script: /home/trbnet/pone-crate/chiara/dev/BlackCat/blackcat/scripts/setup.sh --config_file /home/trbnet/pone-crate/chiara/dev/BlackCat/config.cfg\n",
      "2025-04-11 10:08:14,614 - INFO - BlackCat - SETUP: DONE.\n",
      "2025-04-11 10:08:14,615 - INFO - BlackCat - CALIBRATION: Starting the calibration process...\n",
      "2025-04-11 10:08:14,616 - DEBUG - BlackCat - CALIBRATION: Running script: /home/trbnet/pone-crate/chiara/dev/BlackCat/blackcat/scripts/cal.sh --config_file /home/trbnet/pone-crate/chiara/dev/BlackCat/config.cfg --save_path /home/trbnet/pone-crate/chiara/test_software\n",
      "2025-04-11 10:08:17,484 - DEBUG - BlackCat - CALIBRATION: Processing raw calibration files...\n",
      "2025-04-11 10:08:17,485 - DEBUG - BlackCat - CALIBRATION: Created calibration directory: /home/trbnet/pone-crate/chiara/test_software/calibration\n",
      "2025-04-11 10:08:17,491 - INFO - BlackCat - CALIBRATION: DONE.\n",
      "2025-04-11 10:08:17,492 - INFO - BlackCat - SETUP: Starting the setup process...\n",
      "2025-04-11 10:08:17,492 - DEBUG - BlackCat - SETUP: Running script: /home/trbnet/pone-crate/chiara/dev/BlackCat/blackcat/scripts/setup.sh --config_file /home/trbnet/pone-crate/chiara/dev/BlackCat/config.cfg\n",
      "2025-04-11 10:08:19,888 - INFO - BlackCat - SETUP: DONE.\n",
      "2025-04-11 10:08:19,889 - INFO - USBTDC - ttyUSB0 SETUP: Starting the setup process...\n",
      "2025-04-11 10:08:19,889 - DEBUG - USBTDC - ttyUSB0 SETUP: Running script: /home/trbnet/pone-crate/chiara/dev/BlackCat/blackcat/scripts/setup_ext_tdc.sh --ext_device /dev/ttyUSB0\n",
      "2025-04-11 10:08:20,907 - INFO - USBTDC - ttyUSB0 SETUP: DONE.\n",
      "2025-04-11 10:08:20,909 - INFO - USBTDC - ttyUSB1 SETUP: Starting the setup process...\n",
      "2025-04-11 10:08:20,911 - DEBUG - USBTDC - ttyUSB1 SETUP: Running script: /home/trbnet/pone-crate/chiara/dev/BlackCat/blackcat/scripts/setup_ext_tdc.sh --ext_device /dev/ttyUSB1\n",
      "2025-04-11 10:08:21,929 - INFO - USBTDC - ttyUSB1 SETUP: DONE.\n"
     ]
    }
   ],
   "source": [
    "blackcat.setup_and_calibrate()\n",
    "usb0.setup()\n",
    "usb1.setup()"
   ]
  },
  {
   "cell_type": "markdown",
   "id": "cc4eb7e5",
   "metadata": {},
   "source": [
    "### Start UDP listeners for BlackCat and USB reading for the other devices"
   ]
  },
  {
   "cell_type": "code",
   "execution_count": null,
   "id": "54b3978a",
   "metadata": {},
   "outputs": [],
   "source": [
    "blackcat.start_udp_listeners()\n",
    "usb0.start_usb_reading()\n",
    "usb1.start_usb_reading()"
   ]
  },
  {
   "cell_type": "markdown",
   "id": "4884f4f0",
   "metadata": {},
   "source": [
    "### Start the measurement!"
   ]
  },
  {
   "cell_type": "code",
   "execution_count": null,
   "id": "7ffc868f",
   "metadata": {},
   "outputs": [],
   "source": [
    "blackcat.run_link_delay_measurement()"
   ]
  },
  {
   "cell_type": "markdown",
   "id": "cfdaa784",
   "metadata": {},
   "source": [
    "### Stop the measurement!\n",
    "For BlackCat this also closes the listening ports. The reading of the USB devices have to be stopped manually"
   ]
  },
  {
   "cell_type": "code",
   "execution_count": null,
   "id": "bb57ac27",
   "metadata": {},
   "outputs": [],
   "source": [
    "blackcat.stop_measurement()\n",
    "usb0.stop_usb_reading()\n",
    "usb1.stop_usb_reading()"
   ]
  },
  {
   "cell_type": "code",
   "execution_count": null,
   "id": "e95f7633",
   "metadata": {},
   "outputs": [],
   "source": []
  }
 ],
 "metadata": {
  "kernelspec": {
   "display_name": ".venv",
   "language": "python",
   "name": "python3"
  },
  "language_info": {
   "codemirror_mode": {
    "name": "ipython",
    "version": 3
   },
   "file_extension": ".py",
   "mimetype": "text/x-python",
   "name": "python",
   "nbconvert_exporter": "python",
   "pygments_lexer": "ipython3",
   "version": "3.11.2"
  }
 },
 "nbformat": 4,
 "nbformat_minor": 5
}
