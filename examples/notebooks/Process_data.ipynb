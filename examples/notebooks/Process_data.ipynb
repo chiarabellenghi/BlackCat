{
 "cells": [
  {
   "cell_type": "markdown",
   "id": "3d743525",
   "metadata": {},
   "source": [
    "# Unpack and avergage the DLM data (including calibration data)\n",
    "\n",
    "Here we see what methods of the BlackCat class can be called to process the calibration and DLM data.\n",
    "\n",
    "Two different things could happen:\n",
    "1. We have generated data according to a configuration file (for the number of channels defined there) and we now want to process data at the `save_path` we used for running BlackCat\n",
    "2. We just wan to process a random data file"
   ]
  },
  {
   "cell_type": "markdown",
   "id": "c646b8e4",
   "metadata": {},
   "source": [
    "### Case 1.\n",
    "We initialize a BlackCat object using the same configuration file (in this case it is the default one) and giving it the same `save_path` where we stored the data."
   ]
  },
  {
   "cell_type": "code",
   "execution_count": 1,
   "id": "21a66f72",
   "metadata": {},
   "outputs": [],
   "source": [
    "from blackcat.core import BlackCat"
   ]
  },
  {
   "cell_type": "code",
   "execution_count": 1,
   "id": "7d2d4fa8",
   "metadata": {},
   "outputs": [],
   "source": [
    "# Let's select some test files as an example\n",
    "\n",
    "input_dlm_data = \"/home/trbnet/pone-crate/chiara/test_software/data_150.bin\"\n",
    "output_dlm_data = \"/home/trbnet/pone-crate/chiara/test_software/data_150_unpacked\""
   ]
  },
  {
   "cell_type": "markdown",
   "id": "22733dc7",
   "metadata": {},
   "source": [
    "### Initialize the BlackCat object that has a bunch of methods to process all channels together"
   ]
  },
  {
   "cell_type": "code",
   "execution_count": 3,
   "id": "9cf9e586",
   "metadata": {},
   "outputs": [
    {
     "name": "stderr",
     "output_type": "stream",
     "text": [
      "2025-04-14 15:28:32,288 - DEBUG - BlackCat - INIT: Located scripts directory: MultiplexedPath('/home/trbnet/pone-crate/chiara/dev/BlackCat/blackcat/scripts')\n",
      "2025-04-14 15:28:32,288 - DEBUG - BlackCat - INIT: Using default configuration file.\n",
      "2025-04-14 15:28:32,290 - DEBUG - BlackCat - INIT: Loaded configuration from: /home/trbnet/pone-crate/chiara/dev/BlackCat/blackcat/config.cfg\n",
      "2025-04-14 15:28:32,291 - WARNING - BlackCat - INIT: Save directory already exists: /home/trbnet/pone-crate/chiara/test_software. You might be overwriting files!\n"
     ]
    }
   ],
   "source": [
    "bc = BlackCat(save_path=\"/home/trbnet/pone-crate/chiara/test_software\", logging_level=\"DEBUG\")"
   ]
  },
  {
   "cell_type": "markdown",
   "id": "9fe2b907",
   "metadata": {},
   "source": [
    "### Produce a calibration file that will be used to extract fine timing for the DLM\n",
    "\n",
    "This method will loop over the channels defined in the config file and process the calibration data for all links."
   ]
  },
  {
   "cell_type": "code",
   "execution_count": 4,
   "id": "8ee73f95",
   "metadata": {},
   "outputs": [
    {
     "name": "stderr",
     "output_type": "stream",
     "text": [
      "2025-04-14 15:28:33,853 - DEBUG - BlackCat - CALIBRATION: Using existing calibration directory: /home/trbnet/pone-crate/chiara/test_software/calibration\n",
      "2025-04-14 15:28:33,855 - INFO - BlackCat - CALIBRATION: Get human readable calibration files.\n"
     ]
    },
    {
     "name": "stdout",
     "output_type": "stream",
     "text": [
      "\n",
      "############################################################\n",
      "Starting processing of raw calibration file: /home/trbnet/pone-crate/chiara/test_software/calibration/rc_150\n",
      "Output will be written to: /home/trbnet/pone-crate/chiara/test_software/calibration/tdc_cal_150\n",
      "Processing completed successfully.\n",
      "\n",
      "Starting processing of raw calibration file: /home/trbnet/pone-crate/chiara/test_software/calibration/rc_152\n",
      "Output will be written to: /home/trbnet/pone-crate/chiara/test_software/calibration/tdc_cal_152\n",
      "Processing completed successfully.\n",
      "\n",
      "Starting processing of raw calibration file: /home/trbnet/pone-crate/chiara/test_software/calibration/rc_154\n",
      "Output will be written to: /home/trbnet/pone-crate/chiara/test_software/calibration/tdc_cal_154\n",
      "Processing completed successfully.\n",
      "\n",
      "############################################################\n",
      "\n"
     ]
    }
   ],
   "source": [
    "# Process the raw binary calibration file\n",
    "bc.process_raw_calibration(verbose=True)"
   ]
  },
  {
   "cell_type": "markdown",
   "id": "d2eafb46",
   "metadata": {},
   "source": [
    "### The unpacker of binary data needs the processed calibration file, and input binary data file and output file where to store the unpacked data.\n",
    "If an output file is not provided, the output is printed to stdout."
   ]
  },
  {
   "cell_type": "code",
   "execution_count": 2,
   "id": "2d25dec5",
   "metadata": {},
   "outputs": [],
   "source": [
    "from blackcat.data_processing import unpack_dlm_data"
   ]
  },
  {
   "cell_type": "code",
   "execution_count": 3,
   "id": "fe2efea1",
   "metadata": {},
   "outputs": [
    {
     "name": "stdout",
     "output_type": "stream",
     "text": [
      "\n",
      "Starting unpacking of DLM data.\n",
      "Calibration file: /home/trbnet/pone-crate/chiara/test_software/calibration/tdc_cal_150\n",
      "Input file: /home/trbnet/pone-crate/chiara/test_software/data_150.bin\n",
      "Output file: /home/trbnet/pone-crate/chiara/test_software/data_150_unpacked\n",
      "Expected DLM period: 6666666 ns\n",
      "\n",
      "Calibration data loaded successfully. Number of bins: 512\n",
      "# WARNING: WRONG STRUCTURE (0) - HIT FOUND\n",
      "# WARNING: WRONG STRUCTURE (0) - HIT FOUND\n",
      "First epoch detected.\n",
      "# End of file reached\n",
      "\n",
      "\n",
      "Unpacking completed successfully.\n"
     ]
    }
   ],
   "source": [
    "# Unpack the blackcat dlm data\n",
    "unpack_dlm_data(\n",
    "    cal_file=\"/home/trbnet/pone-crate/chiara/test_software/calibration/tdc_cal_150\",\n",
    "    infile=input_dlm_data, \n",
    "    outfile=output_dlm_data,\n",
    "    verbose=True)"
   ]
  },
  {
   "cell_type": "code",
   "execution_count": null,
   "id": "2d8ae991",
   "metadata": {},
   "outputs": [],
   "source": []
  }
 ],
 "metadata": {
  "kernelspec": {
   "display_name": ".venv",
   "language": "python",
   "name": "python3"
  },
  "language_info": {
   "codemirror_mode": {
    "name": "ipython",
    "version": 3
   },
   "file_extension": ".py",
   "mimetype": "text/x-python",
   "name": "python",
   "nbconvert_exporter": "python",
   "pygments_lexer": "ipython3",
   "version": "3.11.2"
  }
 },
 "nbformat": 4,
 "nbformat_minor": 5
}
